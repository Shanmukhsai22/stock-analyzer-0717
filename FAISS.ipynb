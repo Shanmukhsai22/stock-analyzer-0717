{
 "cells": [
  {
   "cell_type": "markdown",
   "id": "071cf906-974b-4142-90a7-45c66a09f912",
   "metadata": {},
   "source": [
    "# Understanding Faiss"
   ]
  },
  {
   "cell_type": "code",
   "execution_count": 1,
   "id": "84398816-b345-4c89-8f2e-e6d0bc282fae",
   "metadata": {},
   "outputs": [
    {
     "name": "stdout",
     "output_type": "stream",
     "text": [
      "Requirement already satisfied: faiss-cpu in c:\\users\\vishn\\appdata\\local\\packages\\pythonsoftwarefoundation.python.3.11_qbz5n2kfra8p0\\localcache\\local-packages\\python311\\site-packages (1.9.0.post1)\n",
      "Requirement already satisfied: numpy<3.0,>=1.25.0 in c:\\users\\vishn\\appdata\\local\\packages\\pythonsoftwarefoundation.python.3.11_qbz5n2kfra8p0\\localcache\\local-packages\\python311\\site-packages (from faiss-cpu) (1.26.4)\n",
      "Requirement already satisfied: packaging in c:\\users\\vishn\\appdata\\local\\packages\\pythonsoftwarefoundation.python.3.11_qbz5n2kfra8p0\\localcache\\local-packages\\python311\\site-packages (from faiss-cpu) (23.2)\n"
     ]
    },
    {
     "name": "stderr",
     "output_type": "stream",
     "text": [
      "\n",
      "[notice] A new release of pip is available: 24.2 -> 24.3.1\n",
      "[notice] To update, run: C:\\Users\\vishn\\AppData\\Local\\Microsoft\\WindowsApps\\PythonSoftwareFoundation.Python.3.11_qbz5n2kfra8p0\\python.exe -m pip install --upgrade pip\n"
     ]
    },
    {
     "name": "stdout",
     "output_type": "stream",
     "text": [
      "Collecting sentence-transformers\n",
      "  Using cached sentence_transformers-3.3.1-py3-none-any.whl.metadata (10 kB)\n",
      "Requirement already satisfied: transformers<5.0.0,>=4.41.0 in c:\\users\\vishn\\appdata\\local\\packages\\pythonsoftwarefoundation.python.3.11_qbz5n2kfra8p0\\localcache\\local-packages\\python311\\site-packages (from sentence-transformers) (4.44.2)\n",
      "Requirement already satisfied: tqdm in c:\\users\\vishn\\appdata\\local\\packages\\pythonsoftwarefoundation.python.3.11_qbz5n2kfra8p0\\localcache\\local-packages\\python311\\site-packages (from sentence-transformers) (4.66.5)\n",
      "Requirement already satisfied: torch>=1.11.0 in c:\\users\\vishn\\appdata\\local\\packages\\pythonsoftwarefoundation.python.3.11_qbz5n2kfra8p0\\localcache\\local-packages\\python311\\site-packages (from sentence-transformers) (2.3.1)\n",
      "Collecting scikit-learn (from sentence-transformers)\n",
      "  Using cached scikit_learn-1.6.0-cp311-cp311-win_amd64.whl.metadata (15 kB)\n",
      "Requirement already satisfied: scipy in c:\\users\\vishn\\appdata\\local\\packages\\pythonsoftwarefoundation.python.3.11_qbz5n2kfra8p0\\localcache\\local-packages\\python311\\site-packages (from sentence-transformers) (1.14.1)\n",
      "Requirement already satisfied: huggingface-hub>=0.20.0 in c:\\users\\vishn\\appdata\\local\\packages\\pythonsoftwarefoundation.python.3.11_qbz5n2kfra8p0\\localcache\\local-packages\\python311\\site-packages (from sentence-transformers) (0.24.7)\n",
      "Requirement already satisfied: Pillow in c:\\users\\vishn\\appdata\\local\\packages\\pythonsoftwarefoundation.python.3.11_qbz5n2kfra8p0\\localcache\\local-packages\\python311\\site-packages (from sentence-transformers) (10.4.0)\n",
      "Requirement already satisfied: filelock in c:\\users\\vishn\\appdata\\local\\packages\\pythonsoftwarefoundation.python.3.11_qbz5n2kfra8p0\\localcache\\local-packages\\python311\\site-packages (from huggingface-hub>=0.20.0->sentence-transformers) (3.15.4)\n",
      "Requirement already satisfied: fsspec>=2023.5.0 in c:\\users\\vishn\\appdata\\local\\packages\\pythonsoftwarefoundation.python.3.11_qbz5n2kfra8p0\\localcache\\local-packages\\python311\\site-packages (from huggingface-hub>=0.20.0->sentence-transformers) (2024.6.1)\n",
      "Requirement already satisfied: packaging>=20.9 in c:\\users\\vishn\\appdata\\local\\packages\\pythonsoftwarefoundation.python.3.11_qbz5n2kfra8p0\\localcache\\local-packages\\python311\\site-packages (from huggingface-hub>=0.20.0->sentence-transformers) (23.2)\n",
      "Requirement already satisfied: pyyaml>=5.1 in c:\\users\\vishn\\appdata\\local\\packages\\pythonsoftwarefoundation.python.3.11_qbz5n2kfra8p0\\localcache\\local-packages\\python311\\site-packages (from huggingface-hub>=0.20.0->sentence-transformers) (6.0.2)\n",
      "Requirement already satisfied: requests in c:\\users\\vishn\\appdata\\local\\packages\\pythonsoftwarefoundation.python.3.11_qbz5n2kfra8p0\\localcache\\local-packages\\python311\\site-packages (from huggingface-hub>=0.20.0->sentence-transformers) (2.32.3)\n",
      "Requirement already satisfied: typing-extensions>=3.7.4.3 in c:\\users\\vishn\\appdata\\local\\packages\\pythonsoftwarefoundation.python.3.11_qbz5n2kfra8p0\\localcache\\local-packages\\python311\\site-packages (from huggingface-hub>=0.20.0->sentence-transformers) (4.12.2)\n",
      "Requirement already satisfied: sympy in c:\\users\\vishn\\appdata\\local\\packages\\pythonsoftwarefoundation.python.3.11_qbz5n2kfra8p0\\localcache\\local-packages\\python311\\site-packages (from torch>=1.11.0->sentence-transformers) (1.13.0)\n",
      "Requirement already satisfied: networkx in c:\\users\\vishn\\appdata\\local\\packages\\pythonsoftwarefoundation.python.3.11_qbz5n2kfra8p0\\localcache\\local-packages\\python311\\site-packages (from torch>=1.11.0->sentence-transformers) (3.3)\n",
      "Requirement already satisfied: jinja2 in c:\\users\\vishn\\appdata\\local\\packages\\pythonsoftwarefoundation.python.3.11_qbz5n2kfra8p0\\localcache\\local-packages\\python311\\site-packages (from torch>=1.11.0->sentence-transformers) (3.1.4)\n",
      "Requirement already satisfied: mkl<=2021.4.0,>=2021.1.1 in c:\\users\\vishn\\appdata\\local\\packages\\pythonsoftwarefoundation.python.3.11_qbz5n2kfra8p0\\localcache\\local-packages\\python311\\site-packages (from torch>=1.11.0->sentence-transformers) (2021.4.0)\n",
      "Requirement already satisfied: colorama in c:\\users\\vishn\\appdata\\local\\packages\\pythonsoftwarefoundation.python.3.11_qbz5n2kfra8p0\\localcache\\local-packages\\python311\\site-packages (from tqdm->sentence-transformers) (0.4.6)\n",
      "Requirement already satisfied: numpy>=1.17 in c:\\users\\vishn\\appdata\\local\\packages\\pythonsoftwarefoundation.python.3.11_qbz5n2kfra8p0\\localcache\\local-packages\\python311\\site-packages (from transformers<5.0.0,>=4.41.0->sentence-transformers) (1.26.4)\n",
      "Requirement already satisfied: regex!=2019.12.17 in c:\\users\\vishn\\appdata\\local\\packages\\pythonsoftwarefoundation.python.3.11_qbz5n2kfra8p0\\localcache\\local-packages\\python311\\site-packages (from transformers<5.0.0,>=4.41.0->sentence-transformers) (2024.9.11)\n",
      "Requirement already satisfied: safetensors>=0.4.1 in c:\\users\\vishn\\appdata\\local\\packages\\pythonsoftwarefoundation.python.3.11_qbz5n2kfra8p0\\localcache\\local-packages\\python311\\site-packages (from transformers<5.0.0,>=4.41.0->sentence-transformers) (0.4.5)\n",
      "Requirement already satisfied: tokenizers<0.20,>=0.19 in c:\\users\\vishn\\appdata\\local\\packages\\pythonsoftwarefoundation.python.3.11_qbz5n2kfra8p0\\localcache\\local-packages\\python311\\site-packages (from transformers<5.0.0,>=4.41.0->sentence-transformers) (0.19.1)\n",
      "Requirement already satisfied: joblib>=1.2.0 in c:\\users\\vishn\\appdata\\local\\packages\\pythonsoftwarefoundation.python.3.11_qbz5n2kfra8p0\\localcache\\local-packages\\python311\\site-packages (from scikit-learn->sentence-transformers) (1.4.2)\n",
      "Collecting threadpoolctl>=3.1.0 (from scikit-learn->sentence-transformers)\n",
      "  Using cached threadpoolctl-3.5.0-py3-none-any.whl.metadata (13 kB)\n",
      "Requirement already satisfied: intel-openmp==2021.* in c:\\users\\vishn\\appdata\\local\\packages\\pythonsoftwarefoundation.python.3.11_qbz5n2kfra8p0\\localcache\\local-packages\\python311\\site-packages (from mkl<=2021.4.0,>=2021.1.1->torch>=1.11.0->sentence-transformers) (2021.4.0)\n",
      "Requirement already satisfied: tbb==2021.* in c:\\users\\vishn\\appdata\\local\\packages\\pythonsoftwarefoundation.python.3.11_qbz5n2kfra8p0\\localcache\\local-packages\\python311\\site-packages (from mkl<=2021.4.0,>=2021.1.1->torch>=1.11.0->sentence-transformers) (2021.13.0)\n",
      "Requirement already satisfied: MarkupSafe>=2.0 in c:\\users\\vishn\\appdata\\local\\packages\\pythonsoftwarefoundation.python.3.11_qbz5n2kfra8p0\\localcache\\local-packages\\python311\\site-packages (from jinja2->torch>=1.11.0->sentence-transformers) (2.1.5)\n",
      "Requirement already satisfied: charset-normalizer<4,>=2 in c:\\users\\vishn\\appdata\\local\\packages\\pythonsoftwarefoundation.python.3.11_qbz5n2kfra8p0\\localcache\\local-packages\\python311\\site-packages (from requests->huggingface-hub>=0.20.0->sentence-transformers) (3.3.2)\n",
      "Requirement already satisfied: idna<4,>=2.5 in c:\\users\\vishn\\appdata\\local\\packages\\pythonsoftwarefoundation.python.3.11_qbz5n2kfra8p0\\localcache\\local-packages\\python311\\site-packages (from requests->huggingface-hub>=0.20.0->sentence-transformers) (3.8)\n",
      "Requirement already satisfied: urllib3<3,>=1.21.1 in c:\\users\\vishn\\appdata\\local\\packages\\pythonsoftwarefoundation.python.3.11_qbz5n2kfra8p0\\localcache\\local-packages\\python311\\site-packages (from requests->huggingface-hub>=0.20.0->sentence-transformers) (2.2.3)\n",
      "Requirement already satisfied: certifi>=2017.4.17 in c:\\users\\vishn\\appdata\\local\\packages\\pythonsoftwarefoundation.python.3.11_qbz5n2kfra8p0\\localcache\\local-packages\\python311\\site-packages (from requests->huggingface-hub>=0.20.0->sentence-transformers) (2024.8.30)\n",
      "Requirement already satisfied: mpmath<1.4,>=1.1.0 in c:\\users\\vishn\\appdata\\local\\packages\\pythonsoftwarefoundation.python.3.11_qbz5n2kfra8p0\\localcache\\local-packages\\python311\\site-packages (from sympy->torch>=1.11.0->sentence-transformers) (1.3.0)\n",
      "Using cached sentence_transformers-3.3.1-py3-none-any.whl (268 kB)\n",
      "Downloading scikit_learn-1.6.0-cp311-cp311-win_amd64.whl (11.1 MB)\n",
      "   ---------------------------------------- 0.0/11.1 MB ? eta -:--:--\n",
      "   ---------------------------------------- 0.0/11.1 MB ? eta -:--:--\n",
      "   - -------------------------------------- 0.5/11.1 MB 2.1 MB/s eta 0:00:06\n",
      "   --- ------------------------------------ 1.0/11.1 MB 2.2 MB/s eta 0:00:05\n",
      "   ----- ---------------------------------- 1.6/11.1 MB 2.3 MB/s eta 0:00:05\n",
      "   ------- -------------------------------- 2.1/11.1 MB 2.3 MB/s eta 0:00:04\n",
      "   -------- ------------------------------- 2.4/11.1 MB 2.2 MB/s eta 0:00:05\n",
      "   ----------- ---------------------------- 3.1/11.1 MB 2.3 MB/s eta 0:00:04\n",
      "   ------------- -------------------------- 3.7/11.1 MB 2.3 MB/s eta 0:00:04\n",
      "   -------------- ------------------------- 3.9/11.1 MB 2.1 MB/s eta 0:00:04\n",
      "   --------------- ------------------------ 4.2/11.1 MB 2.1 MB/s eta 0:00:04\n",
      "   ----------------- ---------------------- 5.0/11.1 MB 2.2 MB/s eta 0:00:03\n",
      "   ------------------- -------------------- 5.5/11.1 MB 2.3 MB/s eta 0:00:03\n",
      "   --------------------- ------------------ 6.0/11.1 MB 2.3 MB/s eta 0:00:03\n",
      "   ---------------------- ----------------- 6.3/11.1 MB 2.3 MB/s eta 0:00:03\n",
      "   ----------------------- ---------------- 6.6/11.1 MB 2.1 MB/s eta 0:00:03\n",
      "   ------------------------- -------------- 7.1/11.1 MB 2.2 MB/s eta 0:00:02\n",
      "   --------------------------- ------------ 7.6/11.1 MB 2.2 MB/s eta 0:00:02\n",
      "   ----------------------------- ---------- 8.1/11.1 MB 2.2 MB/s eta 0:00:02\n",
      "   ------------------------------- -------- 8.7/11.1 MB 2.2 MB/s eta 0:00:02\n",
      "   -------------------------------- ------- 9.2/11.1 MB 2.2 MB/s eta 0:00:01\n",
      "   ---------------------------------- ----- 9.7/11.1 MB 2.2 MB/s eta 0:00:01\n",
      "   ------------------------------------ --- 10.2/11.1 MB 2.3 MB/s eta 0:00:01\n",
      "   -------------------------------------- - 10.7/11.1 MB 2.3 MB/s eta 0:00:01\n",
      "   ---------------------------------------- 11.1/11.1 MB 2.3 MB/s eta 0:00:00\n",
      "Downloading threadpoolctl-3.5.0-py3-none-any.whl (18 kB)\n",
      "Installing collected packages: threadpoolctl, scikit-learn, sentence-transformers\n",
      "Successfully installed scikit-learn-1.6.0 sentence-transformers-3.3.1 threadpoolctl-3.5.0\n"
     ]
    },
    {
     "name": "stderr",
     "output_type": "stream",
     "text": [
      "\n",
      "[notice] A new release of pip is available: 24.2 -> 24.3.1\n",
      "[notice] To update, run: C:\\Users\\vishn\\AppData\\Local\\Microsoft\\WindowsApps\\PythonSoftwareFoundation.Python.3.11_qbz5n2kfra8p0\\python.exe -m pip install --upgrade pip\n"
     ]
    }
   ],
   "source": [
    "# #Install Packages\n",
    "!pip install faiss-cpu\n",
    "!pip install sentence-transformers"
   ]
  },
  {
   "cell_type": "code",
   "execution_count": 2,
   "id": "9cc80c63-524f-4c27-b611-c73d3bc82c5a",
   "metadata": {},
   "outputs": [],
   "source": [
    "# import pandas \n",
    "import pandas as pd "
   ]
  },
  {
   "cell_type": "code",
   "execution_count": 3,
   "id": "a972a14c-ef8a-4a76-91f1-fa1b060c6fc8",
   "metadata": {},
   "outputs": [],
   "source": [
    "df = pd.read_csv(\"FAISS_text.csv\")"
   ]
  },
  {
   "cell_type": "code",
   "execution_count": 4,
   "id": "3638a82f-b6aa-4a00-b876-630725607ab1",
   "metadata": {},
   "outputs": [
    {
     "data": {
      "text/html": [
       "<div>\n",
       "<style scoped>\n",
       "    .dataframe tbody tr th:only-of-type {\n",
       "        vertical-align: middle;\n",
       "    }\n",
       "\n",
       "    .dataframe tbody tr th {\n",
       "        vertical-align: top;\n",
       "    }\n",
       "\n",
       "    .dataframe thead th {\n",
       "        text-align: right;\n",
       "    }\n",
       "</style>\n",
       "<table border=\"1\" class=\"dataframe\">\n",
       "  <thead>\n",
       "    <tr style=\"text-align: right;\">\n",
       "      <th></th>\n",
       "      <th>text</th>\n",
       "      <th>category</th>\n",
       "    </tr>\n",
       "  </thead>\n",
       "  <tbody>\n",
       "    <tr>\n",
       "      <th>0</th>\n",
       "      <td>Meditation and yoga can improve mental health</td>\n",
       "      <td>Health</td>\n",
       "    </tr>\n",
       "    <tr>\n",
       "      <th>1</th>\n",
       "      <td>Fruits, whole grains and vegetables helps cont...</td>\n",
       "      <td>Health</td>\n",
       "    </tr>\n",
       "    <tr>\n",
       "      <th>2</th>\n",
       "      <td>These are the latest fashion trends for this week</td>\n",
       "      <td>Fashion</td>\n",
       "    </tr>\n",
       "    <tr>\n",
       "      <th>3</th>\n",
       "      <td>Vibrant color jeans for male are becoming a trend</td>\n",
       "      <td>Fashion</td>\n",
       "    </tr>\n",
       "    <tr>\n",
       "      <th>4</th>\n",
       "      <td>The concert starts at 7 PM tonight</td>\n",
       "      <td>Event</td>\n",
       "    </tr>\n",
       "    <tr>\n",
       "      <th>5</th>\n",
       "      <td>Navaratri dandiya program at Expo center in Mu...</td>\n",
       "      <td>Event</td>\n",
       "    </tr>\n",
       "    <tr>\n",
       "      <th>6</th>\n",
       "      <td>Exciting vacation destinations for your next trip</td>\n",
       "      <td>Travel</td>\n",
       "    </tr>\n",
       "    <tr>\n",
       "      <th>7</th>\n",
       "      <td>Maldives and Srilanka are gaining popularity i...</td>\n",
       "      <td>Travel</td>\n",
       "    </tr>\n",
       "  </tbody>\n",
       "</table>\n",
       "</div>"
      ],
      "text/plain": [
       "                                                text category\n",
       "0      Meditation and yoga can improve mental health   Health\n",
       "1  Fruits, whole grains and vegetables helps cont...   Health\n",
       "2  These are the latest fashion trends for this week  Fashion\n",
       "3  Vibrant color jeans for male are becoming a trend  Fashion\n",
       "4                 The concert starts at 7 PM tonight    Event\n",
       "5  Navaratri dandiya program at Expo center in Mu...    Event\n",
       "6  Exciting vacation destinations for your next trip   Travel\n",
       "7  Maldives and Srilanka are gaining popularity i...   Travel"
      ]
     },
     "execution_count": 4,
     "metadata": {},
     "output_type": "execute_result"
    }
   ],
   "source": [
    "df"
   ]
  },
  {
   "cell_type": "code",
   "execution_count": 5,
   "id": "560cbc60-1d6d-4c73-8a81-5d760a3da359",
   "metadata": {},
   "outputs": [],
   "source": [
    "from sentence_transformers import SentenceTransformer"
   ]
  },
  {
   "cell_type": "code",
   "execution_count": 6,
   "id": "76101ea7-cca9-4257-b3f5-878b8a7c7b52",
   "metadata": {},
   "outputs": [
    {
     "data": {
      "application/vnd.jupyter.widget-view+json": {
       "model_id": "68409a5be83f4408b4223677debec630",
       "version_major": 2,
       "version_minor": 0
      },
      "text/plain": [
       "modules.json:   0%|          | 0.00/349 [00:00<?, ?B/s]"
      ]
     },
     "metadata": {},
     "output_type": "display_data"
    },
    {
     "name": "stderr",
     "output_type": "stream",
     "text": [
      "C:\\Users\\vishn\\AppData\\Local\\Packages\\PythonSoftwareFoundation.Python.3.11_qbz5n2kfra8p0\\LocalCache\\local-packages\\Python311\\site-packages\\huggingface_hub\\file_download.py:159: UserWarning: `huggingface_hub` cache-system uses symlinks by default to efficiently store duplicated files but your machine does not support them in C:\\Users\\vishn\\.cache\\huggingface\\hub\\models--sentence-transformers--all-mpnet-base-v2. Caching files will still work but in a degraded version that might require more space on your disk. This warning can be disabled by setting the `HF_HUB_DISABLE_SYMLINKS_WARNING` environment variable. For more details, see https://huggingface.co/docs/huggingface_hub/how-to-cache#limitations.\n",
      "To support symlinks on Windows, you either need to activate Developer Mode or to run Python as an administrator. In order to see activate developer mode, see this article: https://docs.microsoft.com/en-us/windows/apps/get-started/enable-your-device-for-development\n",
      "  warnings.warn(message)\n"
     ]
    },
    {
     "data": {
      "application/vnd.jupyter.widget-view+json": {
       "model_id": "9ceb34df5f974f43a0f97ea989b8a701",
       "version_major": 2,
       "version_minor": 0
      },
      "text/plain": [
       "config_sentence_transformers.json:   0%|          | 0.00/116 [00:00<?, ?B/s]"
      ]
     },
     "metadata": {},
     "output_type": "display_data"
    },
    {
     "data": {
      "application/vnd.jupyter.widget-view+json": {
       "model_id": "5605013d9fac40389c864da8496cae1d",
       "version_major": 2,
       "version_minor": 0
      },
      "text/plain": [
       "README.md:   0%|          | 0.00/10.6k [00:00<?, ?B/s]"
      ]
     },
     "metadata": {},
     "output_type": "display_data"
    },
    {
     "data": {
      "application/vnd.jupyter.widget-view+json": {
       "model_id": "34151d4b4fa84b5fb5c1bd3de403530f",
       "version_major": 2,
       "version_minor": 0
      },
      "text/plain": [
       "sentence_bert_config.json:   0%|          | 0.00/53.0 [00:00<?, ?B/s]"
      ]
     },
     "metadata": {},
     "output_type": "display_data"
    },
    {
     "data": {
      "application/vnd.jupyter.widget-view+json": {
       "model_id": "8b2ca659a7244bf9bbc7737a54d93f0f",
       "version_major": 2,
       "version_minor": 0
      },
      "text/plain": [
       "config.json:   0%|          | 0.00/571 [00:00<?, ?B/s]"
      ]
     },
     "metadata": {},
     "output_type": "display_data"
    },
    {
     "data": {
      "application/vnd.jupyter.widget-view+json": {
       "model_id": "6583cb2f565745a5b2b66df82c8113d2",
       "version_major": 2,
       "version_minor": 0
      },
      "text/plain": [
       "model.safetensors:   0%|          | 0.00/438M [00:00<?, ?B/s]"
      ]
     },
     "metadata": {},
     "output_type": "display_data"
    },
    {
     "data": {
      "application/vnd.jupyter.widget-view+json": {
       "model_id": "898868687fc449799ec8b2581698f3ee",
       "version_major": 2,
       "version_minor": 0
      },
      "text/plain": [
       "tokenizer_config.json:   0%|          | 0.00/363 [00:00<?, ?B/s]"
      ]
     },
     "metadata": {},
     "output_type": "display_data"
    },
    {
     "data": {
      "application/vnd.jupyter.widget-view+json": {
       "model_id": "2d0ab50158324daba1eabcf23be5f771",
       "version_major": 2,
       "version_minor": 0
      },
      "text/plain": [
       "vocab.txt:   0%|          | 0.00/232k [00:00<?, ?B/s]"
      ]
     },
     "metadata": {},
     "output_type": "display_data"
    },
    {
     "data": {
      "application/vnd.jupyter.widget-view+json": {
       "model_id": "a951cebb4e644045878cc0dcc704141a",
       "version_major": 2,
       "version_minor": 0
      },
      "text/plain": [
       "tokenizer.json:   0%|          | 0.00/466k [00:00<?, ?B/s]"
      ]
     },
     "metadata": {},
     "output_type": "display_data"
    },
    {
     "data": {
      "application/vnd.jupyter.widget-view+json": {
       "model_id": "cd6883b4df0c4429a32b78a64e4f6cd1",
       "version_major": 2,
       "version_minor": 0
      },
      "text/plain": [
       "special_tokens_map.json:   0%|          | 0.00/239 [00:00<?, ?B/s]"
      ]
     },
     "metadata": {},
     "output_type": "display_data"
    },
    {
     "name": "stderr",
     "output_type": "stream",
     "text": [
      "C:\\Users\\vishn\\AppData\\Local\\Packages\\PythonSoftwareFoundation.Python.3.11_qbz5n2kfra8p0\\LocalCache\\local-packages\\Python311\\site-packages\\transformers\\tokenization_utils_base.py:1601: FutureWarning: `clean_up_tokenization_spaces` was not set. It will be set to `True` by default. This behavior will be depracted in transformers v4.45, and will be then set to `False` by default. For more details check this issue: https://github.com/huggingface/transformers/issues/31884\n",
      "  warnings.warn(\n"
     ]
    },
    {
     "data": {
      "application/vnd.jupyter.widget-view+json": {
       "model_id": "b79ee7d6ca444bd5b3d265c6e495371c",
       "version_major": 2,
       "version_minor": 0
      },
      "text/plain": [
       "1_Pooling/config.json:   0%|          | 0.00/190 [00:00<?, ?B/s]"
      ]
     },
     "metadata": {},
     "output_type": "display_data"
    }
   ],
   "source": [
    "# Hugging face encoder \n",
    "encoder = SentenceTransformer(\"all-mpnet-base-v2\")\n",
    "vectors = encoder.encode(df.text)"
   ]
  },
  {
   "cell_type": "code",
   "execution_count": 7,
   "id": "84390cd4-df01-424d-b090-c04e5832c241",
   "metadata": {},
   "outputs": [
    {
     "data": {
      "text/plain": [
       "array([[-0.00247395,  0.03626723, -0.05290459, ..., -0.09152358,\n",
       "        -0.03969997, -0.04330491],\n",
       "       [-0.03357265,  0.00980516, -0.0325013 , ..., -0.05165467,\n",
       "         0.02245887, -0.03156184],\n",
       "       [-0.0186532 , -0.04051321, -0.01235388, ...,  0.00610587,\n",
       "        -0.07179647,  0.02773852],\n",
       "       ...,\n",
       "       [-0.00066458,  0.04252128, -0.05645507, ...,  0.01315469,\n",
       "        -0.03183567, -0.04357662],\n",
       "       [-0.03317154,  0.03252459, -0.0248484 , ...,  0.01174422,\n",
       "         0.05747123,  0.00571021],\n",
       "       [-0.00166393,  0.00413826, -0.04597082, ...,  0.02008527,\n",
       "         0.05656241, -0.00161597]], dtype=float32)"
      ]
     },
     "execution_count": 7,
     "metadata": {},
     "output_type": "execute_result"
    }
   ],
   "source": [
    "vectors"
   ]
  },
  {
   "cell_type": "code",
   "execution_count": 8,
   "id": "d3ea5311-d921-4a8d-9848-36771e67a75a",
   "metadata": {},
   "outputs": [
    {
     "data": {
      "text/plain": [
       "(8, 768)"
      ]
     },
     "execution_count": 8,
     "metadata": {},
     "output_type": "execute_result"
    }
   ],
   "source": [
    "vectors.shape"
   ]
  },
  {
   "cell_type": "code",
   "execution_count": 9,
   "id": "b0beab1a-c3b0-4dc3-978e-e23dd5b3de70",
   "metadata": {},
   "outputs": [
    {
     "data": {
      "text/plain": [
       "array([-2.47394782e-03,  3.62672284e-02, -5.29045910e-02, -2.17348523e-02,\n",
       "        1.41723584e-02, -1.01601321e-03,  2.23637447e-02,  3.65196541e-02,\n",
       "        3.80901471e-02,  5.22008305e-03, -3.00865285e-02,  2.05448293e-03,\n",
       "        1.08502982e-02, -8.49087983e-02, -5.57269342e-03, -6.06597811e-02,\n",
       "        2.32011196e-03, -1.51408920e-02,  1.20670842e-02,  1.98905040e-02,\n",
       "       -1.27936425e-02, -2.72811316e-02, -3.31878588e-02,  3.40651162e-03,\n",
       "        8.41168687e-03, -1.94854923e-02,  4.88132313e-02,  2.24118829e-02,\n",
       "        4.53466959e-02, -5.90892062e-02, -9.13182274e-02, -1.22328498e-03,\n",
       "       -4.05045897e-02,  8.67183879e-03,  1.26565260e-06, -1.92451347e-02,\n",
       "       -3.20659317e-02, -4.08172607e-02,  8.79177302e-02, -1.52632073e-02,\n",
       "        1.09908823e-02, -4.47976999e-02, -4.74821264e-03,  3.52632515e-02,\n",
       "        1.31070344e-02,  1.09943990e-02, -3.45763541e-03,  9.12348777e-02,\n",
       "        5.68809882e-02,  4.82893772e-02, -4.51438362e-03,  3.58451344e-02,\n",
       "       -2.44210456e-02, -4.28084955e-02, -1.66666750e-02,  1.65211707e-02,\n",
       "        1.14227803e-02,  6.19199388e-02, -2.31557414e-02, -3.98107022e-02,\n",
       "       -1.20360181e-02, -3.24893594e-02, -4.68717590e-02,  5.74309453e-02,\n",
       "       -2.09295023e-02,  8.66612513e-03,  2.93694921e-02,  1.39481982e-03,\n",
       "        2.89673619e-02,  1.57140717e-02, -4.39893408e-03,  3.33096348e-02,\n",
       "        3.25463898e-02, -5.67624532e-03,  9.64479521e-03, -1.09199584e-02,\n",
       "       -9.13844537e-03, -2.17638742e-02, -1.64261449e-03,  2.95123383e-02,\n",
       "        7.90998265e-02,  1.52952159e-02, -3.61722782e-02, -1.28437746e-02,\n",
       "        7.60599449e-02, -2.54637003e-02, -4.98354854e-03, -9.66975465e-03,\n",
       "        1.23360129e-02, -1.11458851e-02, -1.25426585e-02, -4.38241027e-02,\n",
       "       -1.63969223e-03,  3.94684914e-03,  5.90676791e-04,  1.25496993e-02,\n",
       "       -1.35576315e-02, -1.38590083e-01, -1.79839488e-02,  8.95771086e-02,\n",
       "        6.93042949e-02,  5.44512235e-02, -1.73114222e-02, -6.94496632e-02,\n",
       "        9.26831365e-03,  2.52373014e-02,  1.27631212e-02, -4.95676091e-03,\n",
       "       -1.05310967e-02,  6.89907596e-02, -4.03777743e-03,  1.46954302e-02,\n",
       "       -2.53698118e-02, -3.24942581e-02, -4.91568446e-03,  4.10972210e-03,\n",
       "       -6.16341755e-02, -9.87224001e-03, -4.40229177e-02, -2.49388386e-02,\n",
       "       -2.57240143e-02, -6.45754114e-02, -2.28087902e-02,  8.39939865e-04,\n",
       "        5.17682545e-02,  7.28095993e-02, -2.78259553e-02, -2.70896908e-02,\n",
       "        2.56125294e-02, -2.85152961e-02,  2.48931069e-02,  1.52170612e-02,\n",
       "       -1.82602592e-02,  4.57471935e-03,  4.00789082e-03, -4.10633683e-02,\n",
       "        5.58520071e-02, -4.68986202e-03, -5.42436913e-02,  4.36730590e-03,\n",
       "        1.01202810e-02, -9.13175754e-03,  8.82923231e-02, -2.30878200e-02,\n",
       "       -2.15984527e-02, -4.62850742e-02,  2.45606694e-02, -9.63653717e-03,\n",
       "        2.04569083e-02, -3.36907431e-02, -2.33146548e-02, -3.11168037e-06,\n",
       "       -4.21610810e-02, -2.33145226e-02,  3.98631170e-02,  5.20908870e-02,\n",
       "        8.87798145e-02, -7.32766814e-04,  3.44772078e-02, -2.87740156e-02,\n",
       "        4.24330570e-02, -1.99291017e-02,  2.78219860e-02, -3.48257571e-02,\n",
       "        5.40323555e-02, -4.23691645e-02,  8.31100866e-02, -2.88301352e-02,\n",
       "       -6.22712784e-02,  2.47737058e-02, -6.59210905e-02, -1.81271918e-02,\n",
       "       -1.48120672e-02,  1.07428864e-01, -4.06897720e-03,  6.28881976e-02,\n",
       "       -1.45184221e-02,  2.66864076e-02, -8.66079628e-02, -1.52695868e-02,\n",
       "       -3.13381944e-03, -2.73709744e-03, -1.79909356e-02,  1.99597254e-02,\n",
       "        8.21225494e-02,  6.80240802e-03, -7.02438410e-03,  2.94618476e-02,\n",
       "       -1.36624873e-02, -4.27074321e-02, -4.59483750e-02, -2.15018075e-02,\n",
       "        1.33594535e-02, -4.04234938e-02, -3.29468516e-03,  1.99418440e-02,\n",
       "        4.95412238e-02,  5.59021719e-02,  1.10123688e-02, -1.27656222e-03,\n",
       "       -3.47214229e-02,  5.04799336e-02, -2.76383460e-02, -6.08149134e-02,\n",
       "       -4.09358256e-02, -1.70138497e-02,  2.28633936e-02,  3.50623089e-03,\n",
       "        8.88338313e-02, -2.17470005e-02,  7.32041756e-03,  4.30595055e-02,\n",
       "       -2.76746880e-03, -1.28805125e-02,  1.48882961e-03, -7.65301334e-03,\n",
       "        7.79347960e-04,  3.98992784e-02,  1.81989800e-02,  2.18546903e-03,\n",
       "       -1.44025777e-02,  6.61469102e-02,  1.29944831e-02,  3.00701475e-04,\n",
       "        6.94511384e-02,  9.69156250e-03,  7.73053244e-02,  1.49983699e-02,\n",
       "        7.68603310e-02,  1.50437681e-02, -2.70854402e-02,  1.03822285e-02,\n",
       "       -6.34136889e-03, -1.86572205e-02, -5.77929728e-02,  2.80815680e-02,\n",
       "        2.32389029e-02, -2.65862029e-02, -4.37124707e-02,  2.25695372e-02,\n",
       "        2.60373577e-02,  5.91906048e-02, -9.07661673e-03, -2.58117504e-02,\n",
       "       -2.82169622e-03, -1.48377307e-02, -2.11602654e-02,  2.95709576e-02,\n",
       "       -6.05772622e-02,  9.92965885e-03,  3.09271528e-03, -2.78295204e-02,\n",
       "       -4.66294698e-02, -1.66598503e-02, -3.01651042e-02, -4.93829809e-02,\n",
       "       -4.89022359e-02, -1.16061782e-02,  1.28895286e-02, -1.51608745e-02,\n",
       "       -1.83716677e-02, -6.28017494e-03,  4.56343219e-03, -3.93354781e-02,\n",
       "        1.97598692e-02, -2.09158566e-02,  3.26804593e-02, -9.99122337e-02,\n",
       "       -7.31078302e-03, -2.85855159e-02, -4.75265682e-02, -7.53557030e-03,\n",
       "        7.45951757e-03, -1.76944025e-02, -3.87278311e-02, -1.26046240e-02,\n",
       "        6.57023340e-02,  9.98488218e-02,  3.23767774e-02, -3.14150788e-02,\n",
       "       -3.39231789e-02,  2.18933895e-02,  4.17155772e-02, -2.91292742e-02,\n",
       "        1.69252176e-02, -2.70651244e-02,  1.02947615e-02, -8.51275213e-03,\n",
       "        5.82498387e-02,  6.05042325e-03,  2.51693539e-02,  1.17143989e-02,\n",
       "       -1.43268276e-02, -2.68335901e-02, -3.36446241e-02,  4.13522646e-02,\n",
       "        1.23573570e-02,  3.27557735e-02,  1.36757584e-03, -3.43487784e-02,\n",
       "       -2.23306436e-02,  1.16950572e-02,  2.89603621e-02,  9.82661452e-03,\n",
       "        4.48702611e-02,  1.36506464e-02, -2.55217738e-02,  1.16558205e-02,\n",
       "        1.72282010e-02, -1.19526321e-02,  2.94620059e-02,  5.43996925e-03,\n",
       "        7.05650263e-03, -2.76309960e-02,  2.19648611e-02,  2.89274063e-02,\n",
       "        2.90115681e-02,  1.71294529e-02,  1.71571989e-02,  3.06242518e-02,\n",
       "       -3.33006494e-03, -4.28258404e-02, -2.78930627e-02, -8.78214929e-03,\n",
       "       -1.97483203e-03, -3.04208267e-02,  1.01123981e-01,  1.11175645e-02,\n",
       "        3.70049453e-03,  3.05223688e-02, -6.94842776e-03,  3.36759500e-02,\n",
       "        1.49478698e-02,  5.09507023e-02, -6.17867447e-02, -6.54374138e-02,\n",
       "        1.01318518e-02,  8.71546380e-03, -2.13060956e-02, -7.16120657e-03,\n",
       "        2.81146504e-02,  6.08829688e-03, -6.53893426e-02,  8.65299255e-02,\n",
       "       -4.26638685e-02, -1.95683558e-02,  6.20286865e-03,  5.45220561e-02,\n",
       "       -2.94256693e-04, -7.94979855e-02,  2.34850869e-02, -2.81759463e-02,\n",
       "       -2.67926790e-02,  8.09148792e-03,  1.06042726e-02, -3.51758189e-02,\n",
       "        3.66234891e-02,  1.09313447e-02,  2.97116563e-02,  1.30287632e-02,\n",
       "       -3.92856933e-02,  1.45116402e-02,  1.87349189e-02, -1.32707199e-02,\n",
       "        6.87149465e-02, -3.04465257e-02, -2.08048150e-02,  1.08850012e-02,\n",
       "        2.52188668e-02,  1.71259344e-02, -3.36281285e-02,  5.18848747e-02,\n",
       "       -1.62589829e-02,  1.43419299e-02, -5.09705953e-02,  7.62143731e-02,\n",
       "       -3.95713793e-03, -6.92037642e-02, -5.83421327e-02, -1.35672968e-02,\n",
       "        6.34212326e-03,  1.52591672e-02,  6.45108568e-03,  4.78063803e-03,\n",
       "        2.21218932e-02, -1.46030663e-02,  1.99064687e-02,  4.94005457e-02,\n",
       "        3.77786085e-02, -4.72103283e-02,  1.19165971e-03, -7.77721852e-02,\n",
       "        7.51761422e-02,  1.51350116e-02, -3.00767049e-02, -2.54277494e-02,\n",
       "       -7.68550904e-03, -3.32965851e-02,  2.68354341e-02,  1.16432933e-02,\n",
       "       -2.65072007e-02, -2.21001115e-02,  3.13199982e-02, -1.75455138e-02,\n",
       "        1.62755307e-02,  1.05225658e-02,  4.59099822e-02,  1.12994080e-02,\n",
       "        2.25951429e-03, -4.32900488e-02,  2.55049132e-02,  9.08372402e-02,\n",
       "        3.49961109e-02,  1.99541263e-02,  8.99380669e-02, -1.25246579e-02,\n",
       "        2.99614873e-02,  5.30705461e-03,  3.87516804e-02, -7.73842931e-02,\n",
       "       -2.13107821e-02,  1.71742588e-02, -2.26807930e-02,  3.90662365e-02,\n",
       "       -1.48159871e-02,  6.43334389e-02,  4.15602624e-02,  3.50658060e-03,\n",
       "       -3.73802073e-02, -2.15710793e-02,  3.59705202e-02,  1.26670189e-02,\n",
       "        1.18572321e-02, -1.57606732e-02,  2.89345626e-02, -1.26260321e-03,\n",
       "       -1.25825237e-02, -1.85953304e-02, -4.02568392e-02, -4.52977419e-02,\n",
       "       -3.23485285e-02, -9.25442670e-03,  1.25144860e-02, -1.65085923e-02,\n",
       "        1.14768296e-02,  2.81502921e-02,  8.33325610e-02,  3.36187631e-02,\n",
       "        4.08935040e-04,  3.39801125e-02,  1.61180720e-02,  3.48992050e-02,\n",
       "        1.53090199e-02, -1.57535542e-02,  4.15873565e-02, -2.98247337e-02,\n",
       "       -4.53814715e-02, -1.02242284e-01,  4.03168090e-02,  1.70004535e-02,\n",
       "        1.87225342e-02, -2.08055181e-03, -3.33345379e-03,  3.12028974e-02,\n",
       "        4.42103221e-04, -6.45755902e-02, -6.61169067e-02, -6.12062216e-02,\n",
       "       -1.36191947e-02, -2.49696244e-02,  6.13837950e-02,  2.51729824e-02,\n",
       "       -6.04648609e-03,  2.46976446e-02,  1.33111887e-02,  2.91291345e-02,\n",
       "       -3.77130099e-02,  3.14109735e-02,  7.01060146e-02, -1.87029094e-02,\n",
       "        4.64438722e-02, -3.50710228e-02,  5.78635698e-03,  2.02969667e-02,\n",
       "       -9.14935197e-04,  2.73546986e-02, -4.49903682e-02, -1.92701388e-02,\n",
       "       -1.94973941e-03, -2.72162668e-02, -1.74497778e-03,  5.99824227e-02,\n",
       "        3.38419201e-03, -4.43554930e-02,  2.25252192e-02, -1.98009331e-02,\n",
       "       -1.27885435e-02, -1.68490522e-02, -3.18891294e-02, -9.83174518e-03,\n",
       "       -2.37168726e-02, -3.51693045e-04,  2.70688185e-03,  4.34032828e-02,\n",
       "        2.23511877e-03,  1.04528293e-02, -1.25210695e-02,  3.80455516e-02,\n",
       "       -5.37308923e-04, -1.31307747e-02,  1.76104791e-02, -3.21548490e-04,\n",
       "       -4.33223806e-02, -6.97795153e-02,  2.04764791e-02,  2.54791067e-03,\n",
       "        3.64245921e-02,  1.31792780e-02,  3.74212004e-02, -2.40744576e-02,\n",
       "        1.58512946e-02,  2.33806055e-02, -1.43252956e-02,  9.85238235e-03,\n",
       "       -1.55072827e-02,  8.11945554e-03, -2.57197674e-02,  4.66311770e-03,\n",
       "       -1.50064463e-02, -1.59888808e-02, -6.18273839e-02, -3.19935046e-02,\n",
       "        3.00306883e-02, -2.62035877e-02, -4.40740213e-02,  4.71212193e-02,\n",
       "       -8.53406116e-02,  5.49825169e-02, -6.54159253e-03,  4.11518626e-02,\n",
       "        4.12454009e-02, -2.99727544e-02,  8.77856538e-02, -4.84295050e-03,\n",
       "       -1.86586529e-02, -2.43209619e-02, -3.44155892e-03,  1.71137117e-02,\n",
       "        5.27162142e-02, -3.81458476e-02, -6.85427934e-02,  1.49509553e-02,\n",
       "       -2.22115312e-02, -2.86750458e-02, -2.97921570e-03, -3.73255713e-33,\n",
       "       -8.48158728e-03,  5.95543608e-02, -9.73880850e-03,  2.78522968e-02,\n",
       "        4.26142756e-03, -4.62204218e-02, -1.60571202e-04,  2.03653462e-02,\n",
       "        2.74291895e-02,  3.67005169e-02,  8.95549729e-03,  7.47958273e-02,\n",
       "       -5.74468216e-03,  1.78796779e-02, -8.56289081e-03, -1.87858120e-02,\n",
       "       -2.86744330e-02,  5.29135624e-03, -7.28305243e-03, -1.84069332e-02,\n",
       "       -3.48132253e-02,  5.07888943e-02,  3.45481932e-02, -4.04979736e-02,\n",
       "       -4.27604765e-02,  2.78408993e-02,  4.66893241e-02, -6.46445006e-02,\n",
       "       -5.29187033e-03, -5.78818610e-03, -1.56755224e-02, -5.47080208e-03,\n",
       "        1.39788752e-02, -1.11808209e-03,  5.50439581e-04, -2.26584189e-02,\n",
       "        1.50561519e-02,  3.38191316e-02, -8.25202931e-03,  2.16513444e-02,\n",
       "        8.77525657e-04, -2.40297290e-03, -2.82622539e-02,  1.05069214e-02,\n",
       "        3.68514135e-02, -2.31945273e-02, -2.93092709e-02, -4.81787696e-02,\n",
       "        2.89041437e-02, -4.68107611e-02, -3.55234928e-02, -2.09481101e-02,\n",
       "       -8.83262791e-03,  8.06664899e-02, -8.48142877e-02, -3.95479538e-02,\n",
       "       -5.03684804e-02,  2.69837510e-02, -3.94657161e-03, -2.39756051e-02,\n",
       "        3.29292230e-02,  4.16704975e-02, -2.45395806e-02, -3.85609902e-02,\n",
       "       -3.02901510e-02, -2.84514502e-02, -6.83768615e-02, -9.38019156e-03,\n",
       "       -4.70948517e-02, -2.15400793e-02,  4.15227450e-02,  6.90571778e-03,\n",
       "        2.96323821e-02, -1.55480411e-02, -2.56335828e-02, -4.94204871e-02,\n",
       "       -1.07960552e-02,  1.36496536e-02,  8.46188609e-03,  4.44031693e-02,\n",
       "        3.93989612e-04,  2.20193677e-02,  3.60401161e-02,  5.93104698e-02,\n",
       "        2.14909967e-02, -1.90565530e-02, -2.08019242e-02,  1.91410463e-02,\n",
       "       -3.78732942e-03,  1.66846439e-02,  2.79686265e-02, -6.88842312e-03,\n",
       "       -9.25205089e-03, -2.20814683e-02,  4.68296260e-02,  2.11678501e-02,\n",
       "       -2.44130529e-02, -7.68517563e-03,  3.94079685e-02, -5.65718301e-02,\n",
       "        8.71799048e-03,  2.10748333e-02, -1.76222492e-02,  5.53250760e-02,\n",
       "        3.49679552e-02, -2.62319054e-02,  5.69753982e-02, -7.94603974e-02,\n",
       "       -1.52110206e-02,  2.09261365e-02,  1.75831262e-02,  4.12070490e-02,\n",
       "        2.66290084e-02, -1.34375980e-02, -4.86178063e-02,  1.27242776e-02,\n",
       "        9.39347874e-03, -8.11939687e-03,  2.95723695e-02, -6.94516376e-02,\n",
       "       -7.10697845e-02,  3.01133841e-04,  4.31027971e-02, -5.95075190e-02,\n",
       "        2.65519693e-02, -5.90478890e-02,  4.46865372e-02, -1.46237276e-02,\n",
       "       -9.81815066e-03, -4.89699170e-02,  1.01139927e-02,  2.82771625e-02,\n",
       "        1.99888504e-07, -6.35881722e-02,  1.15379905e-02, -1.61977187e-02,\n",
       "       -3.75170819e-02,  2.24945284e-02,  5.74998977e-03, -6.25733733e-02,\n",
       "       -1.51105952e-02,  2.80584972e-02,  3.69875170e-02, -4.67124768e-02,\n",
       "       -2.84616165e-02,  1.72772445e-02, -9.28013213e-03,  7.98695534e-02,\n",
       "       -8.46900269e-02,  3.83958556e-02,  1.41009770e-03, -9.62678622e-03,\n",
       "        1.36490595e-02, -1.77746862e-02,  4.18013893e-02,  8.53314344e-03,\n",
       "       -1.77574507e-03, -8.90156906e-03,  3.19797546e-02,  3.75544503e-02,\n",
       "        1.10768825e-02,  5.14425710e-02,  4.77531776e-02,  9.78296921e-02,\n",
       "       -9.33890697e-03, -6.87361732e-02, -3.38471048e-02, -4.79166489e-03,\n",
       "       -3.35370488e-02, -2.90469956e-02,  2.22573914e-02, -6.03160064e-04,\n",
       "        4.80033495e-02, -3.26162837e-02,  7.76100233e-02, -2.88890675e-02,\n",
       "       -1.22943176e-02,  1.82095952e-02, -1.09790385e-01, -2.57627387e-02,\n",
       "        3.70127596e-02, -6.64481428e-03, -2.65491903e-02,  2.67257672e-02,\n",
       "        2.67418418e-02,  6.14944566e-03,  3.98129076e-02, -1.56973337e-03,\n",
       "        6.82431040e-04,  4.84148674e-02,  2.97233602e-03, -1.46996938e-02,\n",
       "       -3.73888016e-02, -1.90463047e-02,  4.02793102e-02,  1.27060933e-03,\n",
       "        1.20820187e-03, -5.90572916e-02, -1.78196039e-02, -5.61401471e-02,\n",
       "        9.20051508e-35,  1.11877779e-02,  1.60857029e-02,  9.83771589e-03,\n",
       "       -2.01887395e-02, -7.61516206e-03, -4.81337719e-02, -6.21873848e-02,\n",
       "        6.26680814e-03, -9.15235803e-02, -3.96999680e-02, -4.33049053e-02],\n",
       "      dtype=float32)"
      ]
     },
     "execution_count": 9,
     "metadata": {},
     "output_type": "execute_result"
    }
   ],
   "source": [
    "vectors[0]"
   ]
  },
  {
   "cell_type": "code",
   "execution_count": 11,
   "id": "2be56af9-fb9d-4cb3-8dd2-74b3d82ca77d",
   "metadata": {},
   "outputs": [],
   "source": [
    "dim = vectors.shape[1]"
   ]
  },
  {
   "cell_type": "code",
   "execution_count": 12,
   "id": "d6f6dd65-08aa-4fd6-85bc-a84dcfc80f09",
   "metadata": {},
   "outputs": [
    {
     "data": {
      "text/plain": [
       "768"
      ]
     },
     "execution_count": 12,
     "metadata": {},
     "output_type": "execute_result"
    }
   ],
   "source": [
    "dim"
   ]
  },
  {
   "cell_type": "code",
   "execution_count": 13,
   "id": "375f973d-b9b6-4073-9212-524f609c2c74",
   "metadata": {},
   "outputs": [],
   "source": [
    "import faiss\n",
    "index = faiss.IndexFlatL2(dim)"
   ]
  },
  {
   "cell_type": "code",
   "execution_count": 14,
   "id": "f22d8ba5-a671-4477-b8bb-fd912c9cb298",
   "metadata": {},
   "outputs": [
    {
     "data": {
      "text/plain": [
       "<faiss.swigfaiss_avx2.IndexFlatL2; proxy of <Swig Object of type 'faiss::IndexFlatL2 *' at 0x000002882942C930> >"
      ]
     },
     "execution_count": 14,
     "metadata": {},
     "output_type": "execute_result"
    }
   ],
   "source": [
    "index\n"
   ]
  },
  {
   "cell_type": "code",
   "execution_count": 15,
   "id": "57eb67d6-cf3a-40e4-9e3d-b2d271c470ac",
   "metadata": {},
   "outputs": [],
   "source": [
    "index.add(vectors)"
   ]
  },
  {
   "cell_type": "code",
   "execution_count": 16,
   "id": "7ce5bb84-7848-450f-94c0-608964c8cbef",
   "metadata": {},
   "outputs": [],
   "source": [
    "search_query = \"An apple a day keeps doctor away\""
   ]
  },
  {
   "cell_type": "code",
   "execution_count": 17,
   "id": "42b78d83-2525-44ea-bc13-f73ca558a498",
   "metadata": {},
   "outputs": [],
   "source": [
    "vec = encoder.encode(search_query)"
   ]
  },
  {
   "cell_type": "code",
   "execution_count": 18,
   "id": "cac18d27-d2a2-4231-a1e3-506ec0a60337",
   "metadata": {},
   "outputs": [
    {
     "data": {
      "text/plain": [
       "(768,)"
      ]
     },
     "execution_count": 18,
     "metadata": {},
     "output_type": "execute_result"
    }
   ],
   "source": [
    "vec.shape"
   ]
  },
  {
   "cell_type": "code",
   "execution_count": 19,
   "id": "ad515d64-4c7a-460b-820f-a7b776c04101",
   "metadata": {},
   "outputs": [],
   "source": [
    "import numpy as np \n",
    "svec = np.array(vec).reshape(1,-1)"
   ]
  },
  {
   "cell_type": "code",
   "execution_count": 20,
   "id": "69b123ec-c35c-4bc6-9b39-4dcc4a550ef5",
   "metadata": {},
   "outputs": [
    {
     "data": {
      "text/plain": [
       "(1, 768)"
      ]
     },
     "execution_count": 20,
     "metadata": {},
     "output_type": "execute_result"
    }
   ],
   "source": [
    "svec.shape"
   ]
  },
  {
   "cell_type": "code",
   "execution_count": 21,
   "id": "6886a2f8-d660-4525-a598-9d11b51f776a",
   "metadata": {},
   "outputs": [
    {
     "data": {
      "text/plain": [
       "(array([[1.3908098, 1.7193402]], dtype=float32), array([[1, 0]], dtype=int64))"
      ]
     },
     "execution_count": 21,
     "metadata": {},
     "output_type": "execute_result"
    }
   ],
   "source": [
    "index.search(svec, k=2)"
   ]
  },
  {
   "cell_type": "code",
   "execution_count": 22,
   "id": "b2ede8cc-da23-4f3b-893c-2dda6edec544",
   "metadata": {},
   "outputs": [],
   "source": [
    "dis, I = index.search(svec, k=2)"
   ]
  },
  {
   "cell_type": "code",
   "execution_count": 23,
   "id": "1b3625d6-7a35-4c19-a6c2-486f58751b65",
   "metadata": {},
   "outputs": [
    {
     "data": {
      "text/plain": [
       "array([[1.3908098, 1.7193402]], dtype=float32)"
      ]
     },
     "execution_count": 23,
     "metadata": {},
     "output_type": "execute_result"
    }
   ],
   "source": [
    "dis"
   ]
  },
  {
   "cell_type": "code",
   "execution_count": 24,
   "id": "0bbcf85a-8a1f-4826-890c-56b6cb3d9074",
   "metadata": {},
   "outputs": [
    {
     "data": {
      "text/plain": [
       "array([[1, 0]], dtype=int64)"
      ]
     },
     "execution_count": 24,
     "metadata": {},
     "output_type": "execute_result"
    }
   ],
   "source": [
    "I"
   ]
  },
  {
   "cell_type": "code",
   "execution_count": 25,
   "id": "f9223e47-af12-429d-a620-225e85eb324e",
   "metadata": {},
   "outputs": [
    {
     "data": {
      "text/html": [
       "<div>\n",
       "<style scoped>\n",
       "    .dataframe tbody tr th:only-of-type {\n",
       "        vertical-align: middle;\n",
       "    }\n",
       "\n",
       "    .dataframe tbody tr th {\n",
       "        vertical-align: top;\n",
       "    }\n",
       "\n",
       "    .dataframe thead th {\n",
       "        text-align: right;\n",
       "    }\n",
       "</style>\n",
       "<table border=\"1\" class=\"dataframe\">\n",
       "  <thead>\n",
       "    <tr style=\"text-align: right;\">\n",
       "      <th></th>\n",
       "      <th>text</th>\n",
       "      <th>category</th>\n",
       "    </tr>\n",
       "  </thead>\n",
       "  <tbody>\n",
       "    <tr>\n",
       "      <th>1</th>\n",
       "      <td>Fruits, whole grains and vegetables helps cont...</td>\n",
       "      <td>Health</td>\n",
       "    </tr>\n",
       "    <tr>\n",
       "      <th>0</th>\n",
       "      <td>Meditation and yoga can improve mental health</td>\n",
       "      <td>Health</td>\n",
       "    </tr>\n",
       "  </tbody>\n",
       "</table>\n",
       "</div>"
      ],
      "text/plain": [
       "                                                text category\n",
       "1  Fruits, whole grains and vegetables helps cont...   Health\n",
       "0      Meditation and yoga can improve mental health   Health"
      ]
     },
     "execution_count": 25,
     "metadata": {},
     "output_type": "execute_result"
    }
   ],
   "source": [
    "df.loc[I[0]]"
   ]
  },
  {
   "cell_type": "code",
   "execution_count": null,
   "id": "87ff9eed-6faf-4ca3-8395-6100b28c63c3",
   "metadata": {},
   "outputs": [],
   "source": []
  },
  {
   "cell_type": "code",
   "execution_count": null,
   "id": "761ed3fe-c19a-4cbc-b642-a396df444cf8",
   "metadata": {},
   "outputs": [],
   "source": []
  },
  {
   "cell_type": "code",
   "execution_count": null,
   "id": "322d7d73-c72c-4aea-9a57-21d8a26c7648",
   "metadata": {},
   "outputs": [],
   "source": []
  },
  {
   "cell_type": "code",
   "execution_count": null,
   "id": "05cfd07f-a50f-431a-a6df-be8aecc7b5ce",
   "metadata": {},
   "outputs": [],
   "source": []
  },
  {
   "cell_type": "code",
   "execution_count": null,
   "id": "4acd8eaa-b113-4b33-9418-722f766f5738",
   "metadata": {},
   "outputs": [],
   "source": []
  },
  {
   "cell_type": "code",
   "execution_count": null,
   "id": "e01f5737-9e42-42b0-90a1-382462b2621d",
   "metadata": {},
   "outputs": [],
   "source": []
  },
  {
   "cell_type": "code",
   "execution_count": null,
   "id": "9d3587a2-709e-4f1a-b919-411d16b288a4",
   "metadata": {},
   "outputs": [],
   "source": []
  },
  {
   "cell_type": "code",
   "execution_count": null,
   "id": "e7e014dc-c3b3-4a01-8570-6cc7154b71a4",
   "metadata": {},
   "outputs": [],
   "source": []
  },
  {
   "cell_type": "code",
   "execution_count": null,
   "id": "9d6eed22-6e6a-4a18-8a83-bec5c1f9c9c0",
   "metadata": {},
   "outputs": [],
   "source": []
  },
  {
   "cell_type": "code",
   "execution_count": null,
   "id": "fa60fe77-9a6e-4402-9fd9-cf290a36a602",
   "metadata": {},
   "outputs": [],
   "source": []
  }
 ],
 "metadata": {
  "kernelspec": {
   "display_name": "Python 3",
   "language": "python",
   "name": "python3"
  },
  "language_info": {
   "codemirror_mode": {
    "name": "ipython",
    "version": 3
   },
   "file_extension": ".py",
   "mimetype": "text/x-python",
   "name": "python",
   "nbconvert_exporter": "python",
   "pygments_lexer": "ipython3",
   "version": "3.11.9"
  }
 },
 "nbformat": 4,
 "nbformat_minor": 5
}
